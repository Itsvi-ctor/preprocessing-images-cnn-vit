{
 "cells": [
  {
   "cell_type": "code",
   "execution_count": 5,
   "metadata": {},
   "outputs": [
    {
     "name": "stdout",
     "output_type": "stream",
     "text": [
      "Titles added to images while keeping them in grayscale.\n"
     ]
    }
   ],
   "source": [
    "import matplotlib.pyplot as plt\n",
    "import os\n",
    "import cv2\n",
    "\n",
    "# File paths\n",
    "input_folder = r'C:\\Users\\Jimi2\\Documents\\preprocessing\\grayscaled_images_unhealthy_train'\n",
    "output_folder = r'C:\\Users\\Jimi2\\Documents\\preprocessing\\modified_grayscaled_images_unhealthy_train'\n",
    "\n",
    "# Create the output folder if it doesn't exist\n",
    "os.makedirs(output_folder, exist_ok=True)\n",
    "\n",
    "# Get list of image file names\n",
    "image_files = [file for file in os.listdir(input_folder) if file.endswith('.png')]\n",
    "\n",
    "# Add titles to grayscale images and save them to the output folder\n",
    "for file_name in image_files:\n",
    "    image_path = os.path.join(input_folder, file_name)\n",
    "    img = cv2.imread(image_path, cv2.IMREAD_GRAYSCALE)  # Read image in grayscale mode\n",
    "    \n",
    "    # Plot the image without applying any colormap\n",
    "    plt.imshow(img, cmap='gray')  # Use cmap='gray' to ensure no color mapping is applied\n",
    "    plt.title('Unhealthy')  # Replace 'Your Title Here' with the desired title\n",
    "    \n",
    "    # Save the modified image with the title\n",
    "    output_path = os.path.join(output_folder, file_name)\n",
    "    plt.savefig(output_path)\n",
    "    plt.close()  # Close the plot to release memory\n",
    "\n",
    "print(\"Titles added to images while keeping them in grayscale.\")\n"
   ]
  },
  {
   "cell_type": "code",
   "execution_count": null,
   "metadata": {},
   "outputs": [],
   "source": []
  }
 ],
 "metadata": {
  "kernelspec": {
   "display_name": "Python 3",
   "language": "python",
   "name": "python3"
  },
  "language_info": {
   "codemirror_mode": {
    "name": "ipython",
    "version": 3
   },
   "file_extension": ".py",
   "mimetype": "text/x-python",
   "name": "python",
   "nbconvert_exporter": "python",
   "pygments_lexer": "ipython3",
   "version": "3.12.1"
  }
 },
 "nbformat": 4,
 "nbformat_minor": 2
}
