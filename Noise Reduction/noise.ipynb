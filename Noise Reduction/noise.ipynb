{
 "cells": [
  {
   "cell_type": "code",
   "execution_count": 3,
   "metadata": {},
   "outputs": [],
   "source": [
    "import cv2\n",
    "import os\n",
    "\n",
    "# Define paths\n",
    "code_file_path = r'C:\\Users\\Jimi2\\Documents\\preprocessing\\Noise Reduction'\n",
    "image_folder_path = r'C:\\Users\\Jimi2\\Documents\\Test\\Healthy_test'\n",
    "output_folder_path = r'C:\\Users\\Jimi2\\Documents\\preprocessing\\Noise Reduction\\NoiseReduced_healthy_test'\n",
    "\n",
    "# Create the output folder if it doesn't exist\n",
    "os.makedirs(output_folder_path, exist_ok=True)\n",
    "\n",
    "# Loop through images in the folder\n",
    "for img_name in os.listdir(image_folder_path):\n",
    "    img_path = os.path.join(image_folder_path, img_name)\n",
    "    \n",
    "    # Read the image\n",
    "    img = cv2.imread(img_path)\n",
    "    \n",
    "    # Apply noise reduction (denoising)\n",
    "    denoised_img = cv2.fastNlMeansDenoisingColored(img, None, 10, 10, 7, 15)\n",
    "    \n",
    "    # Save the denoised image with the title \"healthy\" in the output folder\n",
    "    output_img_path = os.path.join(output_folder_path, f'healthy_{img_name}')\n",
    "    cv2.imwrite(output_img_path, denoised_img)\n"
   ]
  },
  {
   "cell_type": "code",
   "execution_count": null,
   "metadata": {},
   "outputs": [],
   "source": []
  }
 ],
 "metadata": {
  "kernelspec": {
   "display_name": "Python 3",
   "language": "python",
   "name": "python3"
  },
  "language_info": {
   "codemirror_mode": {
    "name": "ipython",
    "version": 3
   },
   "file_extension": ".py",
   "mimetype": "text/x-python",
   "name": "python",
   "nbconvert_exporter": "python",
   "pygments_lexer": "ipython3",
   "version": "3.12.1"
  }
 },
 "nbformat": 4,
 "nbformat_minor": 2
}
