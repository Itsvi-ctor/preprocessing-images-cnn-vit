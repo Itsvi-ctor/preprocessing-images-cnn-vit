{
 "cells": [
  {
   "cell_type": "code",
   "execution_count": 4,
   "metadata": {},
   "outputs": [],
   "source": [
    "import cv2\n",
    "import os\n",
    "\n",
    "# Define paths\n",
    "code_file_path = r'C:\\Users\\Jimi2\\Documents\\preprocessing\\CannyEdgeDetection'\n",
    "image_folder_path = r'C:\\Users\\Jimi2\\Documents\\Train\\Unhealthy_train'\n",
    "output_folder_path = r'C:\\Users\\Jimi2\\Documents\\preprocessing\\CannyEdgeDetection\\CannyEdges_unhealthy_train'\n",
    "\n",
    "# Create the output folder if it doesn't exist\n",
    "os.makedirs(output_folder_path, exist_ok=True)\n",
    "\n",
    "# Loop through images in the folder\n",
    "for img_name in os.listdir(image_folder_path):\n",
    "    img_path = os.path.join(image_folder_path, img_name)\n",
    "    \n",
    "    # Read the image\n",
    "    img = cv2.imread(img_path)\n",
    "    \n",
    "    # Apply Canny Edge Detection\n",
    "    edges = cv2.Canny(img, 100, 200)  # Adjust threshold values as needed\n",
    "    \n",
    "    # Save the Canny Edge Detection result with the title \"healthy\" in the output folder\n",
    "    output_img_path = os.path.join(output_folder_path, f'healthy_{img_name}')\n",
    "    cv2.imwrite(output_img_path, edges)"
   ]
  },
  {
   "cell_type": "code",
   "execution_count": null,
   "metadata": {},
   "outputs": [],
   "source": []
  }
 ],
 "metadata": {
  "kernelspec": {
   "display_name": "Python 3",
   "language": "python",
   "name": "python3"
  },
  "language_info": {
   "codemirror_mode": {
    "name": "ipython",
    "version": 3
   },
   "file_extension": ".py",
   "mimetype": "text/x-python",
   "name": "python",
   "nbconvert_exporter": "python",
   "pygments_lexer": "ipython3",
   "version": "3.12.1"
  }
 },
 "nbformat": 4,
 "nbformat_minor": 2
}
