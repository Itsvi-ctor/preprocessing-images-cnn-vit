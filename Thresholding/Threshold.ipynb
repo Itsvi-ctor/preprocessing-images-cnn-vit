{
 "cells": [
  {
   "cell_type": "code",
   "execution_count": 5,
   "metadata": {},
   "outputs": [],
   "source": [
    "import cv2\n",
    "import os\n",
    "\n",
    "# Path to the image folder and where you want to save thresholded images\n",
    "image_folder = r'C:\\Users\\Jimi2\\Documents\\Test\\Unhealthy_test'\n",
    "output_folder = r'C:\\Users\\Jimi2\\Documents\\preprocessing\\Thresholding\\Threshold_unhealthy_test'\n",
    "\n",
    "# Loop through images\n",
    "for img_name in os.listdir(image_folder):\n",
    "    img_path = os.path.join(image_folder, img_name)\n",
    "    img = cv2.imread(img_path, cv2.IMREAD_GRAYSCALE)  # Read image in grayscale\n",
    "\n",
    "    # Apply thresholding (example with simple threshold)\n",
    "    _, thresholded = cv2.threshold(img, 128, 255, cv2.THRESH_BINARY)\n",
    "\n",
    "    # Save thresholded images\n",
    "    output_path = os.path.join(output_folder, f'healthy_{img_name}')\n",
    "    cv2.imwrite(output_path, thresholded)\n"
   ]
  },
  {
   "cell_type": "code",
   "execution_count": null,
   "metadata": {},
   "outputs": [],
   "source": []
  }
 ],
 "metadata": {
  "kernelspec": {
   "display_name": "Python 3",
   "language": "python",
   "name": "python3"
  },
  "language_info": {
   "codemirror_mode": {
    "name": "ipython",
    "version": 3
   },
   "file_extension": ".py",
   "mimetype": "text/x-python",
   "name": "python",
   "nbconvert_exporter": "python",
   "pygments_lexer": "ipython3",
   "version": "3.12.1"
  }
 },
 "nbformat": 4,
 "nbformat_minor": 2
}
